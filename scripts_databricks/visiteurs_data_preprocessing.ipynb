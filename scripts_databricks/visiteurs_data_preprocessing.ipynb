{
 "cells": [
  {
   "cell_type": "code",
   "execution_count": 0,
   "metadata": {
    "application/vnd.databricks.v1+cell": {
     "cellMetadata": {
      "byteLimit": 2048000,
      "rowLimit": 10000
     },
     "inputWidgets": {},
     "nuid": "830f5d30-caba-4ab5-ad39-32b483cffe2a",
     "showTitle": false,
     "tableResultSettingsMap": {},
     "title": ""
    }
   },
   "outputs": [],
   "source": [
    "jdbcHostname = \"server4traffic.database.windows.net\"\n",
    "jdbcDatabase = \"datawarehouse04\"\n",
    "jdbcPort = 1433\n",
    "jdbcUsername = \"admin2traffic\"\n",
    "jdbcPassword = \"abcd1234@\"\n",
    "# Dans un vrai projet, il ne faut jamais exposer ce genre d'information dans le code."
   ]
  },
  {
   "cell_type": "code",
   "execution_count": 0,
   "metadata": {
    "application/vnd.databricks.v1+cell": {
     "cellMetadata": {
      "byteLimit": 2048000,
      "rowLimit": 10000
     },
     "inputWidgets": {},
     "nuid": "18921865-cad5-42dc-8332-039df1b3bd82",
     "showTitle": false,
     "tableResultSettingsMap": {},
     "title": ""
    }
   },
   "outputs": [],
   "source": [
    "# URL JDBC\n",
    "jdbcUrl = f\"jdbc:sqlserver://{jdbcHostname}:{jdbcPort};database={jdbcDatabase};encrypt=true;trustServerCertificate=false;hostNameInCertificate=*.database.windows.net;loginTimeout=30;\"\n",
    "\n",
    "# Paramètres de connexion\n",
    "connectionProperties = {\n",
    "  \"user\" : jdbcUsername,\n",
    "  \"password\" : jdbcPassword,\n",
    "  \"driver\" : \"com.microsoft.sqlserver.jdbc.SQLServerDriver\"\n",
    "}"
   ]
  },
  {
   "cell_type": "code",
   "execution_count": 0,
   "metadata": {
    "application/vnd.databricks.v1+cell": {
     "cellMetadata": {
      "byteLimit": 2048000,
      "rowLimit": 10000
     },
     "inputWidgets": {},
     "nuid": "6f689b68-b435-41dc-8392-926569b282b0",
     "showTitle": false,
     "tableResultSettingsMap": {},
     "title": ""
    }
   },
   "outputs": [],
   "source": [
    "dbutils.widgets.text(\"date_param\", \"\")\n",
    "date_a_traiter = dbutils.widgets.get(\"date_param\")"
   ]
  },
  {
   "cell_type": "code",
   "execution_count": 0,
   "metadata": {
    "application/vnd.databricks.v1+cell": {
     "cellMetadata": {
      "byteLimit": 2048000,
      "rowLimit": 10000
     },
     "inputWidgets": {},
     "nuid": "552c93e7-1970-42a7-a10b-4fb5723ce0d6",
     "showTitle": false,
     "tableResultSettingsMap": {},
     "title": ""
    }
   },
   "outputs": [],
   "source": [
    "# construire la requête SQL avec filtre\n",
    "query = f\"(SELECT * FROM raw.visiteurs WHERE CAST(timestamp_insertion AS DATE) = '{date_a_traiter}') AS visiteurs_filtrés\"\n",
    "\n",
    "# lire uniquement les données de la veille\n",
    "df_visiteurs = spark.read.jdbc(\n",
    "    url=jdbcUrl,\n",
    "    table=query,\n",
    "    properties=connectionProperties\n",
    ")"
   ]
  },
  {
   "cell_type": "code",
   "execution_count": 0,
   "metadata": {
    "application/vnd.databricks.v1+cell": {
     "cellMetadata": {
      "byteLimit": 2048000,
      "rowLimit": 10000
     },
     "inputWidgets": {},
     "nuid": "0a293c5d-1ffc-4192-8a6f-90439ca196fe",
     "showTitle": false,
     "tableResultSettingsMap": {},
     "title": ""
    }
   },
   "outputs": [],
   "source": [
    "import pyspark.sql.functions as F"
   ]
  },
  {
   "cell_type": "code",
   "execution_count": 0,
   "metadata": {
    "application/vnd.databricks.v1+cell": {
     "cellMetadata": {
      "byteLimit": 2048000,
      "rowLimit": 10000
     },
     "inputWidgets": {},
     "nuid": "bcef077e-c337-475e-b76f-8648c2c5a35b",
     "showTitle": false,
     "tableResultSettingsMap": {},
     "title": ""
    }
   },
   "outputs": [],
   "source": [
    "# Lire Toute la table SQL dans un DataFrame Spark\n",
    "# df_visiteurs = spark.read.jdbc(url=jdbcUrl, table=\"raw.visiteurs\", properties=connectionProperties)"
   ]
  },
  {
   "cell_type": "code",
   "execution_count": 0,
   "metadata": {
    "application/vnd.databricks.v1+cell": {
     "cellMetadata": {
      "byteLimit": 2048000,
      "rowLimit": 10000
     },
     "inputWidgets": {},
     "nuid": "6ea71d94-bf36-4fac-941d-e99f2a087c10",
     "showTitle": false,
     "tableResultSettingsMap": {},
     "title": ""
    }
   },
   "outputs": [],
   "source": [
    "display(df_visiteurs.limit(10))"
   ]
  },
  {
   "cell_type": "code",
   "execution_count": 0,
   "metadata": {
    "application/vnd.databricks.v1+cell": {
     "cellMetadata": {
      "byteLimit": 2048000,
      "rowLimit": 10000
     },
     "inputWidgets": {},
     "nuid": "ad410133-b2c6-4644-9008-685946efde8f",
     "showTitle": false,
     "tableResultSettingsMap": {},
     "title": ""
    }
   },
   "outputs": [],
   "source": [
    "# Compter les lignes où AU MOINS UNE colonne est null\n",
    "nb_lignes_null = df_visiteurs.filter(\n",
    "    F.col(\"store_id\").isNull() |\n",
    "    F.col(\"sensor_id\").isNull() |\n",
    "    F.col(\"nb_visiteurs\").isNull() |\n",
    "    F.col(\"date\").isNull() |\n",
    "    F.col(\"heure\").isNull()\n",
    ").count()"
   ]
  },
  {
   "cell_type": "code",
   "execution_count": 0,
   "metadata": {
    "application/vnd.databricks.v1+cell": {
     "cellMetadata": {
      "byteLimit": 2048000,
      "rowLimit": 10000
     },
     "inputWidgets": {},
     "nuid": "99166c1c-37b1-4b4f-babc-b8c3559be814",
     "showTitle": false,
     "tableResultSettingsMap": {},
     "title": ""
    }
   },
   "outputs": [],
   "source": [
    "print(f\"Nombre de lignes avec au moins un null : {nb_lignes_null}\")"
   ]
  },
  {
   "cell_type": "code",
   "execution_count": 0,
   "metadata": {
    "application/vnd.databricks.v1+cell": {
     "cellMetadata": {
      "byteLimit": 2048000,
      "rowLimit": 10000
     },
     "inputWidgets": {},
     "nuid": "7a80f7a1-0ead-48aa-bafe-cd0bd8171075",
     "showTitle": false,
     "tableResultSettingsMap": {},
     "title": ""
    }
   },
   "outputs": [],
   "source": [
    "df_visiteurs = df_visiteurs.dropna()\n"
   ]
  },
  {
   "cell_type": "code",
   "execution_count": 0,
   "metadata": {
    "application/vnd.databricks.v1+cell": {
     "cellMetadata": {
      "byteLimit": 2048000,
      "rowLimit": 10000
     },
     "inputWidgets": {},
     "nuid": "d0ce35a0-cb0e-4a8b-9c69-8c16cd0099a1",
     "showTitle": false,
     "tableResultSettingsMap": {},
     "title": ""
    }
   },
   "outputs": [],
   "source": [
    "# Compter les lignes où AU MOINS UNE colonne est null\n",
    "nb_lignes_null = df_visiteurs.filter(\n",
    "    F.col(\"store_id\").isNull() |\n",
    "    F.col(\"sensor_id\").isNull() |\n",
    "    F.col(\"nb_visiteurs\").isNull() |\n",
    "    F.col(\"date\").isNull() |\n",
    "    F.col(\"heure\").isNull()\n",
    ").count()\n",
    "print(f\"Nombre de lignes avec au moins un null : {nb_lignes_null}\")"
   ]
  },
  {
   "cell_type": "code",
   "execution_count": 0,
   "metadata": {
    "application/vnd.databricks.v1+cell": {
     "cellMetadata": {
      "byteLimit": 2048000,
      "rowLimit": 10000
     },
     "inputWidgets": {},
     "nuid": "ac0f0ade-b004-4cfb-b755-ddc7e86fc7c1",
     "showTitle": false,
     "tableResultSettingsMap": {},
     "title": ""
    }
   },
   "outputs": [],
   "source": [
    "df_visiteurs = df_visiteurs.withColumn(\"nb_visiteurs\", F.col(\"nb_visiteurs\").cast(\"int\"))"
   ]
  },
  {
   "cell_type": "code",
   "execution_count": 0,
   "metadata": {
    "application/vnd.databricks.v1+cell": {
     "cellMetadata": {
      "byteLimit": 2048000,
      "rowLimit": 10000
     },
     "inputWidgets": {},
     "nuid": "eb9c23e1-e17d-4188-9855-5872420d6578",
     "showTitle": false,
     "tableResultSettingsMap": {},
     "title": ""
    }
   },
   "outputs": [],
   "source": [
    "df_visiteurs.select(\"nb_visiteurs\").describe().show()"
   ]
  },
  {
   "cell_type": "markdown",
   "metadata": {
    "application/vnd.databricks.v1+cell": {
     "cellMetadata": {
      "byteLimit": 2048000,
      "rowLimit": 10000
     },
     "inputWidgets": {},
     "nuid": "49765243-1f7f-4fd7-aae8-d86207b40999",
     "showTitle": false,
     "tableResultSettingsMap": {},
     "title": ""
    }
   },
   "source": [
    "# **SQL**"
   ]
  },
  {
   "cell_type": "code",
   "execution_count": 0,
   "metadata": {
    "application/vnd.databricks.v1+cell": {
     "cellMetadata": {
      "byteLimit": 2048000,
      "rowLimit": 10000
     },
     "inputWidgets": {},
     "nuid": "d78f5adb-55a1-48d6-abce-ab9527753b44",
     "showTitle": false,
     "tableResultSettingsMap": {},
     "title": ""
    }
   },
   "outputs": [],
   "source": [
    "# Enregistrer le DataFrame comme une table temporaire\n",
    "df_visiteurs.createOrReplaceTempView(\"visiteurs\")"
   ]
  },
  {
   "cell_type": "markdown",
   "metadata": {
    "application/vnd.databricks.v1+cell": {
     "cellMetadata": {
      "byteLimit": 2048000,
      "rowLimit": 10000
     },
     "inputWidgets": {},
     "nuid": "054fd3aa-038d-4bd4-a3e3-9be19b851496",
     "showTitle": false,
     "tableResultSettingsMap": {},
     "title": ""
    }
   },
   "source": [
    "**Nettoyer la colonne Date**\n"
   ]
  },
  {
   "cell_type": "code",
   "execution_count": 0,
   "metadata": {
    "application/vnd.databricks.v1+cell": {
     "cellMetadata": {
      "byteLimit": 2048000,
      "rowLimit": 10000
     },
     "inputWidgets": {},
     "nuid": "ca31cb00-c88c-43ec-8cb3-16b88da2d70e",
     "showTitle": false,
     "tableResultSettingsMap": {},
     "title": ""
    }
   },
   "outputs": [],
   "source": [
    "spark.sql(\"\"\"\n",
    "    select distinct date\n",
    "    from visiteurs\n",
    "    where date like \"%/%/%\"\n",
    "\"\"\").show()"
   ]
  },
  {
   "cell_type": "code",
   "execution_count": 0,
   "metadata": {
    "application/vnd.databricks.v1+cell": {
     "cellMetadata": {
      "byteLimit": 2048000,
      "rowLimit": 10000
     },
     "inputWidgets": {},
     "nuid": "644a7b92-1126-4047-91dd-5daa9cb696de",
     "showTitle": false,
     "tableResultSettingsMap": {},
     "title": ""
    }
   },
   "outputs": [],
   "source": [
    "spark.sql(\"\"\"\n",
    "    select distinct date\n",
    "    from visiteurs\n",
    "    where date like \"%-%/%\"\n",
    "\"\"\").show()"
   ]
  },
  {
   "cell_type": "code",
   "execution_count": 0,
   "metadata": {
    "application/vnd.databricks.v1+cell": {
     "cellMetadata": {
      "byteLimit": 2048000,
      "rowLimit": 10000
     },
     "inputWidgets": {},
     "nuid": "e91402b1-d10b-462f-90dd-6310bcc6feb2",
     "showTitle": false,
     "tableResultSettingsMap": {},
     "title": ""
    }
   },
   "outputs": [],
   "source": [
    "spark.sql(\"\"\"\n",
    "    select distinct date\n",
    "    from visiteurs\n",
    "    where date like \"%-%-2024\"\n",
    "\"\"\").show()"
   ]
  },
  {
   "cell_type": "code",
   "execution_count": 0,
   "metadata": {
    "application/vnd.databricks.v1+cell": {
     "cellMetadata": {
      "byteLimit": 2048000,
      "rowLimit": 10000
     },
     "inputWidgets": {},
     "nuid": "88b51f10-449d-4f96-bd78-f6c9896aa205",
     "showTitle": false,
     "tableResultSettingsMap": {},
     "title": ""
    }
   },
   "outputs": [],
   "source": [
    "clean_visiteurs = spark.sql(\"\"\"\n",
    "    SELECT \n",
    "        store_id, \n",
    "        sensor_id, \n",
    "        COALESCE(\n",
    "            TO_DATE(date, 'yyyy-MM-dd'), \n",
    "            TO_DATE(date, 'yyyy/MM/dd'),\n",
    "            TO_DATE(date, 'dd/MM/yyyy')\n",
    "        ) AS date, \n",
    "        hour(CAST(heure AS TIMESTAMP)) AS heure, \n",
    "        nb_visiteurs\n",
    "    FROM visiteurs\n",
    "\"\"\")\n",
    "clean_visiteurs.createOrReplaceTempView(\"clean_visiteurs\")\n",
    "display(clean_visiteurs)"
   ]
  },
  {
   "cell_type": "code",
   "execution_count": 0,
   "metadata": {
    "application/vnd.databricks.v1+cell": {
     "cellMetadata": {
      "byteLimit": 2048000,
      "rowLimit": 10000
     },
     "inputWidgets": {},
     "nuid": "8b2a50d9-7fab-4ebf-bdad-20bcdcb0abc2",
     "showTitle": false,
     "tableResultSettingsMap": {},
     "title": ""
    }
   },
   "outputs": [],
   "source": [
    "clean_visiteurs = spark.sql(\"\"\"\n",
    "    SELECT \n",
    "        *\n",
    "    FROM clean_visiteurs v\n",
    "    WHERE v.store_id <= 10 AND v.sensor_id <= 12\n",
    "    AND v.heure BETWEEN 9 AND 19\n",
    "    AND v.date is not NULL\n",
    "    AND v.nb_visiteurs BETWEEN 1 and 120 -- eleminer valeurs null et abiraintes\n",
    "\"\"\")\n",
    "clean_visiteurs.createOrReplaceTempView(\"clean_visiteurs\")\n",
    "display(clean_visiteurs)"
   ]
  },
  {
   "cell_type": "code",
   "execution_count": 0,
   "metadata": {
    "application/vnd.databricks.v1+cell": {
     "cellMetadata": {
      "byteLimit": 2048000,
      "rowLimit": 10000
     },
     "inputWidgets": {},
     "nuid": "300f662a-dc75-45bd-a717-a603814d0aa3",
     "showTitle": false,
     "tableResultSettingsMap": {},
     "title": ""
    }
   },
   "outputs": [],
   "source": []
  },
  {
   "cell_type": "code",
   "execution_count": 0,
   "metadata": {
    "application/vnd.databricks.v1+cell": {
     "cellMetadata": {
      "byteLimit": 2048000,
      "rowLimit": 10000
     },
     "inputWidgets": {},
     "nuid": "a1312ad4-77e7-46b9-a715-8e86b1436cc4",
     "showTitle": false,
     "tableResultSettingsMap": {},
     "title": ""
    }
   },
   "outputs": [],
   "source": [
    "spark.sql(\"\"\"\n",
    "    -- table des dates attendues\n",
    "    WITH dates_attendues AS (\n",
    "        select d.date from\n",
    "        (SELECT explode(sequence(DATE '2023-04-27', DATE '2025-04-27', \n",
    "        INTERVAL 1 DAY)\n",
    "        ) AS date) as d\n",
    "        where dayofweek(d.date) BETWEEN 2 AND 6\n",
    "    ),\n",
    "    -- ids des magasins et des capteurs\n",
    "    identifiants_uniques AS (\n",
    "        SELECT DISTINCT store_id, sensor_id\n",
    "        FROM clean_visiteurs\n",
    "    ),\n",
    "    toutes_combinaisons AS (\n",
    "        SELECT i.store_id, i.sensor_id, d.date\n",
    "        FROM identifiants_uniques i\n",
    "        CROSS JOIN dates_attendues d\n",
    "    )\n",
    "\n",
    "    select t.store_id, t.sensor_id, t.date\n",
    "    from toutes_combinaisons t\n",
    "    left join clean_visiteurs v\n",
    "    on v.store_id = t.store_id\n",
    "    and v.sensor_id = t.sensor_id\n",
    "    and v.date = t.date\n",
    "    where v.date is null\n",
    "\"\"\").show()\n"
   ]
  },
  {
   "cell_type": "markdown",
   "metadata": {
    "application/vnd.databricks.v1+cell": {
     "cellMetadata": {
      "byteLimit": 2048000,
      "rowLimit": 10000
     },
     "inputWidgets": {},
     "nuid": "9fe00ee3-1435-4e29-8738-b35b11bdbf74",
     "showTitle": false,
     "tableResultSettingsMap": {},
     "title": ""
    }
   },
   "source": [
    "On a tout les dates maintenat on va chercher les heures"
   ]
  },
  {
   "cell_type": "markdown",
   "metadata": {
    "application/vnd.databricks.v1+cell": {
     "cellMetadata": {
      "byteLimit": 2048000,
      "rowLimit": 10000
     },
     "inputWidgets": {},
     "nuid": "794a60ca-e392-4cea-8067-f5d18d731030",
     "showTitle": false,
     "tableResultSettingsMap": {},
     "title": ""
    }
   },
   "source": [
    "Trouver les données manquantes"
   ]
  },
  {
   "cell_type": "code",
   "execution_count": 0,
   "metadata": {
    "application/vnd.databricks.v1+cell": {
     "cellMetadata": {
      "byteLimit": 2048000,
      "rowLimit": 10000
     },
     "inputWidgets": {},
     "nuid": "7c4b2d30-5414-4cef-8f1f-1cd629585614",
     "showTitle": false,
     "tableResultSettingsMap": {},
     "title": ""
    }
   },
   "outputs": [],
   "source": [
    "visiteurs_manquants = spark.sql(\"\"\"\n",
    "    -- table des dates attendues\n",
    "    WITH heures_attendues AS (\n",
    "        SELECT explode(sequence(9, 19)) AS heure\n",
    "    ), \n",
    "    dates_attendues AS (\n",
    "        select d.date from\n",
    "        (SELECT explode(sequence(DATE '2023-04-27', DATE '2025-04-27', \n",
    "        INTERVAL 1 DAY)\n",
    "        ) AS date) as d\n",
    "        where dayofweek(d.date) BETWEEN 2 AND 6\n",
    "    ),\n",
    "    -- ids des magasins et des capteurs\n",
    "    identifiants_uniques AS (\n",
    "        SELECT DISTINCT store_id, sensor_id\n",
    "        FROM clean_visiteurs\n",
    "    ),\n",
    "    toutes_combinaisons AS (\n",
    "        SELECT i.store_id, i.sensor_id, d.date,h.heure\n",
    "        FROM identifiants_uniques i\n",
    "        CROSS JOIN dates_attendues d\n",
    "        CROSS JOIN heures_attendues h\n",
    "    )\n",
    "\n",
    "    select t.store_id, t.sensor_id, t.date,t.heure\n",
    "    from toutes_combinaisons t\n",
    "    left join clean_visiteurs v\n",
    "    on v.store_id = t.store_id\n",
    "    and v.sensor_id = t.sensor_id\n",
    "    and v.date = t.date\n",
    "    and v.heure = t.heure\n",
    "    where v.heure is null\n",
    "\n",
    "\"\"\")\n",
    "visiteurs_manquants.createOrReplaceTempView(\"visiteurs_manquants\")\n",
    "display(visiteurs_manquants)\n"
   ]
  },
  {
   "cell_type": "code",
   "execution_count": 0,
   "metadata": {
    "application/vnd.databricks.v1+cell": {
     "cellMetadata": {
      "byteLimit": 2048000,
      "rowLimit": 10000
     },
     "inputWidgets": {},
     "nuid": "24dab025-6fb7-4f91-8b96-3f5654ec35dc",
     "showTitle": false,
     "tableResultSettingsMap": {},
     "title": ""
    }
   },
   "outputs": [],
   "source": []
  },
  {
   "cell_type": "code",
   "execution_count": 0,
   "metadata": {
    "application/vnd.databricks.v1+cell": {
     "cellMetadata": {
      "byteLimit": 2048000,
      "rowLimit": 10000
     },
     "inputWidgets": {},
     "nuid": "fcb9f92a-61d9-4715-a988-ddb8f2b52801",
     "showTitle": false,
     "tableResultSettingsMap": {},
     "title": ""
    }
   },
   "outputs": [],
   "source": [
    "visiteurs_manquants = spark.sql(\"\"\"\n",
    "    with moyenne_visiteurs as (\n",
    "    select v.store_id, v.sensor_id, v.date, cast(avg(v.nb_visiteurs) AS int) as nb_visiteurs\n",
    "    from clean_visiteurs v\n",
    "    group by v.store_id, v.sensor_id, v.date\n",
    "    )\n",
    "    select v.*, mv.nb_visiteurs\n",
    "    from visiteurs_manquants v\n",
    "    inner join moyenne_visiteurs mv\n",
    "    on v.store_id = mv.store_id\n",
    "    and v.sensor_id = mv.sensor_id\n",
    "    and v.date = mv.date\n",
    "\n",
    "\"\"\")\n",
    "visiteurs_manquants.createOrReplaceTempView(\"visiteurs_manquants\")\n",
    "display(visiteurs_manquants)"
   ]
  },
  {
   "cell_type": "code",
   "execution_count": 0,
   "metadata": {
    "application/vnd.databricks.v1+cell": {
     "cellMetadata": {
      "byteLimit": 2048000,
      "rowLimit": 10000
     },
     "inputWidgets": {},
     "nuid": "eec094a2-9648-4dd9-a41e-dc14fe32878e",
     "showTitle": false,
     "tableResultSettingsMap": {},
     "title": ""
    }
   },
   "outputs": [],
   "source": [
    "clean_visiteurs = spark.sql(\"\"\"\n",
    "    SELECT store_id, sensor_id, date, heure, nb_visiteurs\n",
    "    FROM clean_visiteurs\n",
    "\n",
    "    UNION ALL\n",
    "\n",
    "    SELECT store_id, sensor_id, date, heure, nb_visiteurs\n",
    "    FROM visiteurs_manquants\n",
    "\"\"\")\n",
    "display(clean_visiteurs)\n"
   ]
  },
  {
   "cell_type": "markdown",
   "metadata": {
    "application/vnd.databricks.v1+cell": {
     "cellMetadata": {
      "byteLimit": 2048000,
      "rowLimit": 10000
     },
     "inputWidgets": {},
     "nuid": "41ad1aee-7eb1-4872-b653-156a5c4262dc",
     "showTitle": false,
     "tableResultSettingsMap": {},
     "title": ""
    }
   },
   "source": [
    "PySpark"
   ]
  },
  {
   "cell_type": "code",
   "execution_count": 0,
   "metadata": {
    "application/vnd.databricks.v1+cell": {
     "cellMetadata": {
      "byteLimit": 2048000,
      "rowLimit": 10000
     },
     "inputWidgets": {},
     "nuid": "5e8e84c7-fcb7-4c5e-86a9-a68cc8b77abe",
     "showTitle": false,
     "tableResultSettingsMap": {},
     "title": ""
    }
   },
   "outputs": [],
   "source": [
    "clean_visiteurs = clean_visiteurs \\\n",
    "    .withColumn(\"store_id\", F.col(\"store_id\").cast(\"int\")) \\\n",
    "    .withColumn(\"sensor_id\", F.col(\"sensor_id\").cast(\"int\"))\n"
   ]
  },
  {
   "cell_type": "markdown",
   "metadata": {
    "application/vnd.databricks.v1+cell": {
     "cellMetadata": {
      "byteLimit": 2048000,
      "rowLimit": 10000
     },
     "inputWidgets": {},
     "nuid": "dbe07e19-8ad0-4a2e-8594-53566ed57e53",
     "showTitle": false,
     "tableResultSettingsMap": {},
     "title": ""
    }
   },
   "source": [
    "Check des doublons"
   ]
  },
  {
   "cell_type": "code",
   "execution_count": 0,
   "metadata": {
    "application/vnd.databricks.v1+cell": {
     "cellMetadata": {
      "byteLimit": 2048000,
      "rowLimit": 10000
     },
     "inputWidgets": {},
     "nuid": "a647999f-fb6e-4324-b712-aea0980aedbc",
     "showTitle": false,
     "tableResultSettingsMap": {},
     "title": ""
    }
   },
   "outputs": [],
   "source": [
    "clean_visiteurs.groupBy(\"date\", \"heure\", \"store_id\", \"sensor_id\") \\\n",
    "    .agg(F.count(\"*\").alias(\"nb\")) \\\n",
    "    .filter(F.col(\"nb\") > 1) \\\n",
    "    .show()"
   ]
  },
  {
   "cell_type": "code",
   "execution_count": 0,
   "metadata": {
    "application/vnd.databricks.v1+cell": {
     "cellMetadata": {
      "byteLimit": 2048000,
      "rowLimit": 10000
     },
     "inputWidgets": {},
     "nuid": "2d062514-0f7b-40f9-a447-784edc21f8d9",
     "showTitle": false,
     "tableResultSettingsMap": {},
     "title": ""
    }
   },
   "outputs": [],
   "source": [
    "clean_visiteurs.count()"
   ]
  },
  {
   "cell_type": "code",
   "execution_count": 0,
   "metadata": {
    "application/vnd.databricks.v1+cell": {
     "cellMetadata": {
      "byteLimit": 2048000,
      "rowLimit": 10000
     },
     "inputWidgets": {},
     "nuid": "e86ffec0-9f8e-4e50-9107-2721ff87c29a",
     "showTitle": false,
     "tableResultSettingsMap": {},
     "title": ""
    }
   },
   "outputs": [],
   "source": [
    "clean_visiteurs = clean_visiteurs.dropDuplicates(\n",
    "    [\"date\", \"heure\", \"store_id\", \"sensor_id\"]\n",
    ")"
   ]
  },
  {
   "cell_type": "code",
   "execution_count": 0,
   "metadata": {
    "application/vnd.databricks.v1+cell": {
     "cellMetadata": {
      "byteLimit": 2048000,
      "rowLimit": 10000
     },
     "inputWidgets": {},
     "nuid": "1c1efb95-d79a-49ec-9758-0d217762b4e7",
     "showTitle": false,
     "tableResultSettingsMap": {},
     "title": ""
    }
   },
   "outputs": [],
   "source": [
    "clean_visiteurs.count()"
   ]
  },
  {
   "cell_type": "code",
   "execution_count": 0,
   "metadata": {
    "application/vnd.databricks.v1+cell": {
     "cellMetadata": {
      "byteLimit": 2048000,
      "rowLimit": 10000
     },
     "inputWidgets": {},
     "nuid": "5eb9135e-d66b-4c53-ab91-19009b09c0a6",
     "showTitle": false,
     "tableResultSettingsMap": {},
     "title": ""
    }
   },
   "outputs": [],
   "source": [
    "clean_visiteurs.select(F.min(F.col(\"date\")), F.max(F.col(\"date\"))).show()"
   ]
  },
  {
   "cell_type": "code",
   "execution_count": 0,
   "metadata": {
    "application/vnd.databricks.v1+cell": {
     "cellMetadata": {
      "byteLimit": 2048000,
      "rowLimit": 10000
     },
     "inputWidgets": {},
     "nuid": "569884a4-0b08-474f-9eb4-1e312d68f972",
     "showTitle": false,
     "tableResultSettingsMap": {},
     "title": ""
    }
   },
   "outputs": [],
   "source": [
    "clean_visiteurs.select(\"nb_visiteurs\").describe().show()"
   ]
  },
  {
   "cell_type": "code",
   "execution_count": 0,
   "metadata": {
    "application/vnd.databricks.v1+cell": {
     "cellMetadata": {
      "byteLimit": 2048000,
      "rowLimit": 10000
     },
     "inputWidgets": {},
     "nuid": "bf5c99d8-675d-48db-bf71-78ac775dd299",
     "showTitle": false,
     "tableResultSettingsMap": {},
     "title": ""
    }
   },
   "outputs": [],
   "source": [
    "display(clean_visiteurs)"
   ]
  },
  {
   "cell_type": "code",
   "execution_count": 0,
   "metadata": {
    "application/vnd.databricks.v1+cell": {
     "cellMetadata": {
      "byteLimit": 2048000,
      "rowLimit": 10000
     },
     "inputWidgets": {},
     "nuid": "5290f1b9-ab63-4081-9272-f37ad33e3774",
     "showTitle": false,
     "tableResultSettingsMap": {},
     "title": ""
    }
   },
   "outputs": [],
   "source": [
    "try:\n",
    "    clean_visiteurs.write.jdbc(\n",
    "        url=jdbcUrl,\n",
    "        table=\"analytics.visiteurs\",\n",
    "        mode=\"append\",  # ou \"overwrite\" selon usage\n",
    "        properties=connectionProperties\n",
    "    )\n",
    "    print(\"Données insérées avec succès dans analytics.visiteurs.\")\n",
    "except Exception as e:\n",
    "    print(\"Erreur lors de l'insertion dans la base SQL :\")\n",
    "    print(str(e))"
   ]
  },
  {
   "cell_type": "code",
   "execution_count": 0,
   "metadata": {
    "application/vnd.databricks.v1+cell": {
     "cellMetadata": {
      "byteLimit": 2048000,
      "rowLimit": 10000
     },
     "inputWidgets": {},
     "nuid": "04373d04-fd94-4dc8-beb2-7654a6f898eb",
     "showTitle": false,
     "tableResultSettingsMap": {},
     "title": ""
    }
   },
   "outputs": [],
   "source": []
  }
 ],
 "metadata": {
  "application/vnd.databricks.v1+notebook": {
   "computePreferences": null,
   "dashboards": [],
   "environmentMetadata": {
    "base_environment": "",
    "environment_version": "2"
   },
   "inputWidgetPreferences": null,
   "language": "python",
   "notebookMetadata": {
    "pythonIndentUnit": 4
   },
   "notebookName": "visiteurs_data_preprocessing",
   "widgets": {}
  },
  "language_info": {
   "name": "python"
  }
 },
 "nbformat": 4,
 "nbformat_minor": 0
}
