{
 "cells": [
  {
   "cell_type": "code",
   "execution_count": 0,
   "metadata": {
    "application/vnd.databricks.v1+cell": {
     "cellMetadata": {
      "byteLimit": 2048000,
      "rowLimit": 10000
     },
     "inputWidgets": {},
     "nuid": "d09cfa53-0439-4431-9f03-dd7a2a5f3592",
     "showTitle": false,
     "tableResultSettingsMap": {},
     "title": ""
    }
   },
   "outputs": [],
   "source": [
    "jdbcHostname = \"server4traffic.database.windows.net\"\n",
    "jdbcDatabase = \"datawarehouse04\"\n",
    "jdbcPort = 1433\n",
    "jdbcUsername = \"admin2traffic\"\n",
    "jdbcPassword = \"abcd1234@\""
   ]
  },
  {
   "cell_type": "code",
   "execution_count": 0,
   "metadata": {
    "application/vnd.databricks.v1+cell": {
     "cellMetadata": {
      "byteLimit": 2048000,
      "rowLimit": 10000
     },
     "inputWidgets": {},
     "nuid": "84680d21-74ea-4ce0-a827-d05d1c30f9d0",
     "showTitle": false,
     "tableResultSettingsMap": {},
     "title": ""
    }
   },
   "outputs": [],
   "source": [
    "# URL JDBC\n",
    "jdbcUrl = f\"jdbc:sqlserver://{jdbcHostname}:{jdbcPort};database={jdbcDatabase};encrypt=true;trustServerCertificate=false;hostNameInCertificate=*.database.windows.net;loginTimeout=30;\"\n",
    "\n",
    "# Paramètres de connexion\n",
    "connectionProperties = {\n",
    "  \"user\" : jdbcUsername,\n",
    "  \"password\" : jdbcPassword,\n",
    "  \"driver\" : \"com.microsoft.sqlserver.jdbc.SQLServerDriver\"\n",
    "}"
   ]
  },
  {
   "cell_type": "code",
   "execution_count": 0,
   "metadata": {
    "application/vnd.databricks.v1+cell": {
     "cellMetadata": {
      "byteLimit": 2048000,
      "rowLimit": 10000
     },
     "inputWidgets": {},
     "nuid": "2427a003-be34-4e84-ab0a-854b67c2c266",
     "showTitle": false,
     "tableResultSettingsMap": {},
     "title": ""
    }
   },
   "outputs": [],
   "source": [
    "import pyspark.sql.functions as F\n",
    "from pyspark.sql.types import TimestampType\n"
   ]
  },
  {
   "cell_type": "code",
   "execution_count": 0,
   "metadata": {
    "application/vnd.databricks.v1+cell": {
     "cellMetadata": {},
     "inputWidgets": {},
     "nuid": "aa10bb04-0745-4c59-860a-16b566b1c0b2",
     "showTitle": false,
     "tableResultSettingsMap": {},
     "title": ""
    }
   },
   "outputs": [],
   "source": [
    "dbutils.widgets.text(\"date_param\", \"\")\n",
    "date_a_traiter = dbutils.widgets.get(\"date_param\")"
   ]
  },
  {
   "cell_type": "code",
   "execution_count": 0,
   "metadata": {
    "application/vnd.databricks.v1+cell": {
     "cellMetadata": {},
     "inputWidgets": {},
     "nuid": "5a430b8d-34e1-412a-9d06-8ad17f37849b",
     "showTitle": false,
     "tableResultSettingsMap": {},
     "title": ""
    }
   },
   "outputs": [],
   "source": [
    "# construire la requête SQL avec filtre\n",
    "query = f\"(SELECT * FROM raw.transactions WHERE CAST(timestamp_insertion AS DATE) = '{date_a_traiter}') AS transactions_filtrés\"\n",
    "\n",
    "# lire uniquement les données de la veille\n",
    "df_transactions = spark.read.jdbc(\n",
    "    url=jdbcUrl,\n",
    "    table=query,\n",
    "    properties=connectionProperties\n",
    ")"
   ]
  },
  {
   "cell_type": "code",
   "execution_count": 0,
   "metadata": {
    "application/vnd.databricks.v1+cell": {
     "cellMetadata": {
      "byteLimit": 2048000,
      "rowLimit": 10000
     },
     "inputWidgets": {},
     "nuid": "fb55ad66-87cd-489b-9b7e-17ec5ed584a7",
     "showTitle": false,
     "tableResultSettingsMap": {},
     "title": ""
    }
   },
   "outputs": [],
   "source": [
    "# # Lire une table SQL dans un DataFrame Spark\n",
    "# df_transactions = spark.read.jdbc(url=jdbcUrl, table=\"raw.transactions\", properties=connectionProperties)"
   ]
  },
  {
   "cell_type": "code",
   "execution_count": 0,
   "metadata": {
    "application/vnd.databricks.v1+cell": {
     "cellMetadata": {
      "byteLimit": 2048000,
      "rowLimit": 10000
     },
     "inputWidgets": {},
     "nuid": "7740d8dc-e143-4c73-8c04-96283b51562b",
     "showTitle": false,
     "tableResultSettingsMap": {},
     "title": ""
    }
   },
   "outputs": [],
   "source": [
    "display(df_transactions.limit(10))"
   ]
  },
  {
   "cell_type": "code",
   "execution_count": 0,
   "metadata": {
    "application/vnd.databricks.v1+cell": {
     "cellMetadata": {
      "byteLimit": 2048000,
      "rowLimit": 10000
     },
     "inputWidgets": {},
     "nuid": "26486d3a-0d74-4a9c-9c02-ecf5e68573a3",
     "showTitle": false,
     "tableResultSettingsMap": {},
     "title": ""
    }
   },
   "outputs": [],
   "source": [
    "# Compter les lignes où AU MOINS UNE colonne est null\n",
    "nb_lignes_null = df_transactions.filter(\n",
    "    F.col(\"store_id\").isNull() |\n",
    "    F.col(\"date\").isNull() |\n",
    "    F.col(\"heure\").isNull() |\n",
    "    F.col(\"transactions\").isNull() |\n",
    "    F.col(\"chiffre_affaires\").isNull()\n",
    ").count()"
   ]
  },
  {
   "cell_type": "code",
   "execution_count": 0,
   "metadata": {
    "application/vnd.databricks.v1+cell": {
     "cellMetadata": {
      "byteLimit": 2048000,
      "rowLimit": 10000
     },
     "inputWidgets": {},
     "nuid": "80358bbd-82b5-424f-9879-3a1434a22513",
     "showTitle": false,
     "tableResultSettingsMap": {},
     "title": ""
    }
   },
   "outputs": [],
   "source": [
    "print(f\"Nombre de lignes avec au moins un null : {nb_lignes_null}\")"
   ]
  },
  {
   "cell_type": "code",
   "execution_count": 0,
   "metadata": {
    "application/vnd.databricks.v1+cell": {
     "cellMetadata": {
      "byteLimit": 2048000,
      "rowLimit": 10000
     },
     "inputWidgets": {},
     "nuid": "5a4268e8-01ba-4f4d-b86e-30df100fa675",
     "showTitle": false,
     "tableResultSettingsMap": {},
     "title": ""
    }
   },
   "outputs": [],
   "source": [
    "df_transactions = df_transactions.dropna()\n"
   ]
  },
  {
   "cell_type": "code",
   "execution_count": 0,
   "metadata": {
    "application/vnd.databricks.v1+cell": {
     "cellMetadata": {
      "byteLimit": 2048000,
      "rowLimit": 10000
     },
     "inputWidgets": {},
     "nuid": "4a491ab0-7e44-4b18-85e2-967466fcef9d",
     "showTitle": false,
     "tableResultSettingsMap": {},
     "title": ""
    }
   },
   "outputs": [],
   "source": [
    "clean_transactions = df_transactions.withColumn(\n",
    "    \"date\", F.coalesce(\n",
    "        F.to_date(\"date\", \"yyyy-MM-dd\"),\n",
    "        F.to_date(\"date\", \"yyyy/MM/dd\"),\n",
    "        F.to_date(\"date\", \"dd/MM/yyyy\")\n",
    "    )\n",
    ").withColumn(\n",
    "    \"store_id\", F.col(\"store_id\").cast(\"int\")\n",
    ").withColumn(\n",
    "    \"heure\", F.hour(F.col(\"heure\").cast(TimestampType()))\n",
    ").withColumn(\n",
    "    \"nb_transactions\", F.col(\"transactions\").cast(\"int\")\n",
    ").withColumn(\n",
    "    \"chiffre_affaires\", F.round(F.col(\"chiffre_affaires\").cast(\"double\"), 2)\n",
    ").select(\n",
    "    \"store_id\", \"date\", \"heure\", \"nb_transactions\", \"chiffre_affaires\"\n",
    ")\n",
    "display(clean_transactions)"
   ]
  },
  {
   "cell_type": "code",
   "execution_count": 0,
   "metadata": {
    "application/vnd.databricks.v1+cell": {
     "cellMetadata": {
      "byteLimit": 2048000,
      "rowLimit": 10000
     },
     "inputWidgets": {},
     "nuid": "d0b48429-c12e-46d4-acd3-c06cd8e9bd65",
     "showTitle": false,
     "tableResultSettingsMap": {},
     "title": ""
    }
   },
   "outputs": [],
   "source": [
    "clean_transactions.createOrReplaceTempView(\"clean_transactions\")"
   ]
  },
  {
   "cell_type": "code",
   "execution_count": 0,
   "metadata": {
    "application/vnd.databricks.v1+cell": {
     "cellMetadata": {
      "byteLimit": 2048000,
      "rowLimit": 10000
     },
     "inputWidgets": {},
     "nuid": "b710f012-f534-42ee-abe4-8c34afd6bb45",
     "showTitle": false,
     "tableResultSettingsMap": {},
     "title": ""
    }
   },
   "outputs": [],
   "source": [
    "spark.sql(\"\"\"\n",
    "    SELECT \n",
    "        *\n",
    "    FROM clean_transactions\n",
    "    where nb_transactions> 1000\n",
    "    ORDER BY nb_transactions\n",
    "\"\"\").show(10)"
   ]
  },
  {
   "cell_type": "code",
   "execution_count": 0,
   "metadata": {
    "application/vnd.databricks.v1+cell": {
     "cellMetadata": {
      "byteLimit": 2048000,
      "rowLimit": 10000
     },
     "inputWidgets": {},
     "nuid": "7d672fc1-3b65-478c-91ca-e9c365cb8b44",
     "showTitle": false,
     "tableResultSettingsMap": {},
     "title": ""
    }
   },
   "outputs": [],
   "source": [
    "# Filtrage des données\n",
    "clean_transactions = clean_transactions.filter(\n",
    "    (F.col(\"store_id\") <= 10) &\n",
    "    (F.col(\"heure\").between(9, 19)) &\n",
    "    (F.col(\"date\").isNotNull()) &\n",
    "    (F.col(\"nb_transactions\").between(1, 1000)) &\n",
    "    (F.col(\"chiffre_affaires\").between(1, 50000))\n",
    ")\n",
    "clean_transactions.createOrReplaceTempView(\"clean_transactions\")\n",
    "\n",
    "display(clean_transactions)"
   ]
  },
  {
   "cell_type": "code",
   "execution_count": 0,
   "metadata": {
    "application/vnd.databricks.v1+cell": {
     "cellMetadata": {
      "byteLimit": 2048000,
      "rowLimit": 10000
     },
     "inputWidgets": {},
     "nuid": "80c70194-af17-4aee-90e8-5f8d9f9b7b11",
     "showTitle": false,
     "tableResultSettingsMap": {},
     "title": ""
    }
   },
   "outputs": [],
   "source": [
    "transactions_manquants = spark.sql(\"\"\"\n",
    "    -- table des dates attendues\n",
    "    WITH heures_attendues AS (\n",
    "        SELECT explode(sequence(9, 19)) AS heure\n",
    "    ), \n",
    "    dates_attendues AS (\n",
    "        select d.date from\n",
    "        (SELECT explode(sequence(DATE '2023-04-27', DATE '2025-04-25', \n",
    "        INTERVAL 1 DAY)\n",
    "        ) AS date) as d\n",
    "        where dayofweek(d.date) BETWEEN 2 AND 6\n",
    "    ),\n",
    "    -- ids des magasins et des capteurs\n",
    "    identifiants_uniques AS (\n",
    "        SELECT DISTINCT store_id\n",
    "        FROM clean_transactions\n",
    "    ),\n",
    "    toutes_combinaisons AS (\n",
    "        SELECT i.store_id, d.date, h.heure\n",
    "        FROM identifiants_uniques i\n",
    "        CROSS JOIN dates_attendues d\n",
    "        CROSS JOIN heures_attendues h\n",
    "    )\n",
    "\n",
    "    select t.store_id, t.date,t.heure\n",
    "    from toutes_combinaisons t\n",
    "    left join clean_transactions v\n",
    "    on v.store_id = t.store_id\n",
    "    and v.date = t.date\n",
    "    and v.heure = t.heure\n",
    "    where v.heure is null\n",
    "\n",
    "\"\"\")\n",
    "transactions_manquants.createOrReplaceTempView(\"transactions_manquants\")\n",
    "display(transactions_manquants)\n",
    "\n"
   ]
  },
  {
   "cell_type": "code",
   "execution_count": 0,
   "metadata": {
    "application/vnd.databricks.v1+cell": {
     "cellMetadata": {
      "byteLimit": 2048000,
      "rowLimit": 10000
     },
     "inputWidgets": {},
     "nuid": "19048614-294f-461c-99ca-6a3cab597db3",
     "showTitle": false,
     "tableResultSettingsMap": {},
     "title": ""
    }
   },
   "outputs": [],
   "source": [
    "transactions_manquants = spark.sql(\"\"\"\n",
    "    with moyenne_transactions as (\n",
    "    select v.store_id, \n",
    "    v.date, \n",
    "    cast(avg(v.nb_transactions) AS int) as nb_transactions,\n",
    "    cast(avg(v.chiffre_affaires) AS decimal(10,2)) as chiffre_affaires\n",
    "    from clean_transactions v\n",
    "    group by v.store_id, v.date\n",
    "    )\n",
    "    \n",
    "    select v.*, mt.nb_transactions, mt.chiffre_affaires\n",
    "    from transactions_manquants v\n",
    "    inner join moyenne_transactions mt\n",
    "    on v.store_id = mt.store_id\n",
    "    and v.date = mt.date\n",
    "\"\"\")\n",
    "transactions_manquants.createOrReplaceTempView(\"transactions_manquants\")\n",
    "display(transactions_manquants)"
   ]
  },
  {
   "cell_type": "code",
   "execution_count": 0,
   "metadata": {
    "application/vnd.databricks.v1+cell": {
     "cellMetadata": {
      "byteLimit": 2048000,
      "rowLimit": 10000
     },
     "inputWidgets": {},
     "nuid": "e3259984-89f9-41fd-93c8-152019e32942",
     "showTitle": false,
     "tableResultSettingsMap": {},
     "title": ""
    }
   },
   "outputs": [],
   "source": [
    "clean_transactions = spark.sql(\"\"\"\n",
    "    SELECT store_id, date, heure, nb_transactions, chiffre_affaires\n",
    "    FROM clean_transactions\n",
    "\n",
    "    UNION ALL\n",
    "\n",
    "    SELECT store_id, date, heure, nb_transactions, chiffre_affaires\n",
    "    FROM transactions_manquants\n",
    "\"\"\")\n",
    "display(transactions_manquants)\n"
   ]
  },
  {
   "cell_type": "code",
   "execution_count": 0,
   "metadata": {
    "application/vnd.databricks.v1+cell": {
     "cellMetadata": {
      "byteLimit": 2048000,
      "rowLimit": 10000
     },
     "inputWidgets": {},
     "nuid": "6369f093-0b38-4914-aecf-73f81fca520c",
     "showTitle": false,
     "tableResultSettingsMap": {},
     "title": ""
    }
   },
   "outputs": [],
   "source": [
    "clean_transactions.groupBy(\"date\", \"heure\", \"store_id\") \\\n",
    "    .agg(F.count(\"*\").alias(\"nb\")) \\\n",
    "    .filter(F.col(\"nb\") > 1) \\\n",
    "    .show()"
   ]
  },
  {
   "cell_type": "code",
   "execution_count": 0,
   "metadata": {
    "application/vnd.databricks.v1+cell": {
     "cellMetadata": {
      "byteLimit": 2048000,
      "rowLimit": 10000
     },
     "inputWidgets": {},
     "nuid": "163b8240-df3d-4f18-a22c-c7103b92bd1e",
     "showTitle": false,
     "tableResultSettingsMap": {},
     "title": ""
    }
   },
   "outputs": [],
   "source": [
    "clean_transactions.count()"
   ]
  },
  {
   "cell_type": "code",
   "execution_count": 0,
   "metadata": {
    "application/vnd.databricks.v1+cell": {
     "cellMetadata": {
      "byteLimit": 2048000,
      "rowLimit": 10000
     },
     "inputWidgets": {},
     "nuid": "1c10029c-eae5-4c54-b455-cabb0ad9c599",
     "showTitle": false,
     "tableResultSettingsMap": {},
     "title": ""
    }
   },
   "outputs": [],
   "source": [
    "clean_transactions = clean_transactions.dropDuplicates(\n",
    "    [\"date\", \"heure\", \"store_id\"]\n",
    ")"
   ]
  },
  {
   "cell_type": "code",
   "execution_count": 0,
   "metadata": {
    "application/vnd.databricks.v1+cell": {
     "cellMetadata": {
      "byteLimit": 2048000,
      "rowLimit": 10000
     },
     "inputWidgets": {},
     "nuid": "a8cca020-19e8-4986-b0c2-400d08466f03",
     "showTitle": false,
     "tableResultSettingsMap": {},
     "title": ""
    }
   },
   "outputs": [],
   "source": [
    "clean_transactions.count()"
   ]
  },
  {
   "cell_type": "code",
   "execution_count": 0,
   "metadata": {
    "application/vnd.databricks.v1+cell": {
     "cellMetadata": {
      "byteLimit": 2048000,
      "rowLimit": 10000
     },
     "inputWidgets": {},
     "nuid": "50b178ff-4255-4df3-9464-7e9c3c55e6b9",
     "showTitle": false,
     "tableResultSettingsMap": {},
     "title": ""
    }
   },
   "outputs": [],
   "source": [
    "clean_transactions.select(F.min(F.col(\"date\")), F.max(F.col(\"date\"))).show()"
   ]
  },
  {
   "cell_type": "code",
   "execution_count": 0,
   "metadata": {
    "application/vnd.databricks.v1+cell": {
     "cellMetadata": {},
     "inputWidgets": {},
     "nuid": "623bf5d5-096e-4e92-85b4-79ccac8d7293",
     "showTitle": false,
     "tableResultSettingsMap": {},
     "title": ""
    }
   },
   "outputs": [],
   "source": [
    "try:\n",
    "    clean_transactions.write.jdbc(\n",
    "        url=jdbcUrl,\n",
    "        table=\"analytics.transactions\",\n",
    "        mode=\"append\",  # ou \"overwrite\" selon usage\n",
    "        properties=connectionProperties\n",
    "    )\n",
    "    print(\"Données insérées avec succès dans analytics.transactions.\")\n",
    "except Exception as e:\n",
    "    print(\"Erreur lors de l'insertion dans la base SQL :\")\n",
    "    print(str(e))"
   ]
  }
 ],
 "metadata": {
  "application/vnd.databricks.v1+notebook": {
   "computePreferences": null,
   "dashboards": [],
   "environmentMetadata": {
    "base_environment": "",
    "environment_version": "2"
   },
   "inputWidgetPreferences": null,
   "language": "python",
   "notebookMetadata": {
    "pythonIndentUnit": 4
   },
   "notebookName": "transactions_data_preprocessing",
   "widgets": {}
  },
  "language_info": {
   "name": "python"
  }
 },
 "nbformat": 4,
 "nbformat_minor": 0
}